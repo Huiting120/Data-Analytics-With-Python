{
 "cells": [
  {
   "cell_type": "markdown",
   "metadata": {},
   "source": [
    "# Lesson 2 Practice: NumPy Part 2\n",
    "Use this notebook to follow along with the lesson in the corresponding lesson notebook: [L02-Numpy_Part2-Lesson.ipynb](./L02-Numpy_Part2-Lesson.ipynb).  \n"
   ]
  },
  {
   "cell_type": "markdown",
   "metadata": {},
   "source": [
    "## Instructions\n",
    "Follow along with the teaching material in the lesson. Throughout the tutorial sections labeled as \"Tasks\" are interspersed and indicated with the icon: ![Task](http://icons.iconarchive.com/icons/sbstnblnd/plateau/16/Apps-gnome-info-icon.png). You should follow the instructions provided in these sections by performing them in the practice notebook.  When the tutorial is completed you can turn in the final practice notebook. For each task, use the cell below it to write and test your code.  You may add additional cells for any task as needed or desired. "
   ]
  },
  {
   "cell_type": "markdown",
   "metadata": {},
   "source": [
    "## Task 1a: Setup\n",
    "\n",
    "In the practice notebook, import the following packages:\n",
    "+ `numpy` as `np`"
   ]
  },
  {
   "cell_type": "code",
   "execution_count": 1,
   "metadata": {},
   "outputs": [],
   "source": [
    "import numpy as np"
   ]
  },
  {
   "cell_type": "markdown",
   "metadata": {},
   "source": [
    "## Task 2a: Indexing by Subsetting and Slicing\n",
    "\n",
    "In the practice notebook perform the following:\n",
    "\n",
    "1. Create (or re-use) 3 arrays, each containing three dimensions.\n",
    "2. Slice each of these arrays so that:\n",
    "    + One element / number is returned.\n",
    "    + One dimension is returned.\n",
    "    + A subset of a dimension is returned.\n",
    "3. What is the difference between `[x:]` and `[x, ...]`? (hint, try each on high-dimension arrays).\n",
    "    \n",
    "*Exactly what you choose to return is not imporant at this point, the goal of this task is to train you so that if you are given an n-dimension NumPy array, you can write an index or slice that returns a subset of desired positions.*"
   ]
  },
  {
   "cell_type": "code",
   "execution_count": 2,
   "metadata": {},
   "outputs": [
    {
     "name": "stdout",
     "output_type": "stream",
     "text": [
      "[[0.37266901 0.28450836 0.37979987 0.2060671  0.06071345]\n",
      " [0.1245512  0.6064374  0.70242447 0.47044907 0.60663061]\n",
      " [0.19409309 0.74682433 0.93986755 0.38678354 0.07729328]\n",
      " [0.10552865 0.95761206 0.01169578 0.52653974 0.30763509]\n",
      " [0.39021715 0.70677698 0.52240981 0.84311883 0.86719035]]\n",
      "\n",
      "\n",
      "0.30763509070911776\n",
      "\n",
      "\n",
      "[[0.10552865 0.95761206 0.01169578 0.52653974 0.30763509]]\n",
      "\n",
      "\n",
      "[[0.10552865 0.95761206 0.01169578 0.52653974 0.30763509]\n",
      " [0.39021715 0.70677698 0.52240981 0.84311883 0.86719035]]\n",
      "\n",
      "\n",
      "[0.10552865 0.95761206 0.01169578 0.52653974 0.30763509]\n",
      "\n",
      "\n",
      "[0.28450836 0.6064374  0.74682433 0.95761206 0.70677698]\n",
      "\n",
      "\n",
      "[0.70242447 0.47044907 0.60663061]\n"
     ]
    }
   ],
   "source": [
    "arrayA = np.random.random((5, 5))\n",
    "print(arrayA)\n",
    "print(\"\\n\")\n",
    "print(arrayA[3, 4])\n",
    "print(\"\\n\")\n",
    "print(arrayA[3:4])\n",
    "print(\"\\n\")\n",
    "print(arrayA[3:])\n",
    "print(\"\\n\")\n",
    "print(arrayA[3, ...])\n",
    "print(\"\\n\")\n",
    "print(arrayA[:, 1])\n",
    "print(\"\\n\")\n",
    "print(arrayA[1, 2:5])"
   ]
  },
  {
   "cell_type": "markdown",
   "metadata": {},
   "source": [
    "## Task 3a: Boolean Indexing\n",
    "\n",
    "In the practice notebook perform the following:\n",
    "\n",
    "+ Experiment with the following boolean conditionals to generate boolean arrays for indexing:\n",
    "  + Greater than\n",
    "  + Less than\n",
    "  + Equals\n",
    "  + Combine two or more of the above with:\n",
    "      + or `|`\n",
    "      + and `&`\n",
    "\n",
    "You can create arrays or use existing ones"
   ]
  },
  {
   "cell_type": "code",
   "execution_count": 9,
   "metadata": {},
   "outputs": [
    {
     "name": "stdout",
     "output_type": "stream",
     "text": [
      "[0.6064374  0.70242447 0.60663061 0.74682433 0.93986755 0.95761206\n",
      " 0.52653974 0.70677698 0.52240981 0.84311883 0.86719035]\n",
      "\n",
      "\n",
      "[0.37266901 0.28450836 0.37979987 0.2060671  0.06071345 0.1245512\n",
      " 0.6064374  0.70242447 0.47044907 0.60663061 0.19409309 0.74682433\n",
      " 0.93986755 0.38678354 0.07729328 0.10552865 0.95761206 0.01169578\n",
      " 0.52653974 0.30763509 0.39021715 0.70677698 0.52240981 0.84311883\n",
      " 0.86719035]\n",
      "\n",
      "\n",
      "[0.6064374  0.70242447 0.60663061 0.74682433 0.52653974 0.70677698\n",
      " 0.52240981 0.84311883 0.86719035]\n"
     ]
    }
   ],
   "source": [
    "greater_than = arrayA > 0.5\n",
    "less_than = arrayA < 0.9\n",
    "print(arrayA[greater_than])\n",
    "print(\"\\n\")\n",
    "print(arrayA[greater_than | less_than])\n",
    "print(\"\\n\")\n",
    "print(arrayA[greater_than & less_than])"
   ]
  },
  {
   "cell_type": "markdown",
   "metadata": {},
   "source": [
    "## Task 4a: Getting Help\n",
    "\n",
    "In the practice notebook perform the following:\n",
    "\n",
    "+ In the code cell below, call `help()` on two of the following functions: `np.transpose()`, `np.reshape()`, `np.resize()`, `np.ravel()`, `np.append()`, `np.delete()`, `np.concatenate()`, `np.vstack()`, `np.hstack()`, `np.column_stack()`, `np.vsplit()`, `np.hsplit()` \n",
    "+ Respond to this question: Did you understand the help docuemntation? Could you use the function just by looking at what the help says about it?  "
   ]
  },
  {
   "cell_type": "code",
   "execution_count": 3,
   "metadata": {},
   "outputs": [
    {
     "name": "stdout",
     "output_type": "stream",
     "text": [
      "Help on function transpose in module numpy:\n",
      "\n",
      "transpose(a, axes=None)\n",
      "    Reverse or permute the axes of an array; returns the modified array.\n",
      "    \n",
      "    For an array a with two axes, transpose(a) gives the matrix transpose.\n",
      "    \n",
      "    Parameters\n",
      "    ----------\n",
      "    a : array_like\n",
      "        Input array.\n",
      "    axes : tuple or list of ints, optional\n",
      "        If specified, it must be a tuple or list which contains a permutation of\n",
      "        [0,1,..,N-1] where N is the number of axes of a.  The i'th axis of the\n",
      "        returned array will correspond to the axis numbered ``axes[i]`` of the\n",
      "        input.  If not specified, defaults to ``range(a.ndim)[::-1]``, which\n",
      "        reverses the order of the axes.\n",
      "    \n",
      "    Returns\n",
      "    -------\n",
      "    p : ndarray\n",
      "        `a` with its axes permuted.  A view is returned whenever\n",
      "        possible.\n",
      "    \n",
      "    See Also\n",
      "    --------\n",
      "    moveaxis\n",
      "    argsort\n",
      "    \n",
      "    Notes\n",
      "    -----\n",
      "    Use `transpose(a, argsort(axes))` to invert the transposition of tensors\n",
      "    when using the `axes` keyword argument.\n",
      "    \n",
      "    Transposing a 1-D array returns an unchanged view of the original array.\n",
      "    \n",
      "    Examples\n",
      "    --------\n",
      "    >>> x = np.arange(4).reshape((2,2))\n",
      "    >>> x\n",
      "    array([[0, 1],\n",
      "           [2, 3]])\n",
      "    \n",
      "    >>> np.transpose(x)\n",
      "    array([[0, 2],\n",
      "           [1, 3]])\n",
      "    \n",
      "    >>> x = np.ones((1, 2, 3))\n",
      "    >>> np.transpose(x, (1, 0, 2)).shape\n",
      "    (2, 1, 3)\n",
      "\n"
     ]
    }
   ],
   "source": [
    "help(np.transpose)"
   ]
  },
  {
   "cell_type": "code",
   "execution_count": 4,
   "metadata": {},
   "outputs": [
    {
     "name": "stdout",
     "output_type": "stream",
     "text": [
      "Help on function reshape in module numpy:\n",
      "\n",
      "reshape(a, newshape, order='C')\n",
      "    Gives a new shape to an array without changing its data.\n",
      "    \n",
      "    Parameters\n",
      "    ----------\n",
      "    a : array_like\n",
      "        Array to be reshaped.\n",
      "    newshape : int or tuple of ints\n",
      "        The new shape should be compatible with the original shape. If\n",
      "        an integer, then the result will be a 1-D array of that length.\n",
      "        One shape dimension can be -1. In this case, the value is\n",
      "        inferred from the length of the array and remaining dimensions.\n",
      "    order : {'C', 'F', 'A'}, optional\n",
      "        Read the elements of `a` using this index order, and place the\n",
      "        elements into the reshaped array using this index order.  'C'\n",
      "        means to read / write the elements using C-like index order,\n",
      "        with the last axis index changing fastest, back to the first\n",
      "        axis index changing slowest. 'F' means to read / write the\n",
      "        elements using Fortran-like index order, with the first index\n",
      "        changing fastest, and the last index changing slowest. Note that\n",
      "        the 'C' and 'F' options take no account of the memory layout of\n",
      "        the underlying array, and only refer to the order of indexing.\n",
      "        'A' means to read / write the elements in Fortran-like index\n",
      "        order if `a` is Fortran *contiguous* in memory, C-like order\n",
      "        otherwise.\n",
      "    \n",
      "    Returns\n",
      "    -------\n",
      "    reshaped_array : ndarray\n",
      "        This will be a new view object if possible; otherwise, it will\n",
      "        be a copy.  Note there is no guarantee of the *memory layout* (C- or\n",
      "        Fortran- contiguous) of the returned array.\n",
      "    \n",
      "    See Also\n",
      "    --------\n",
      "    ndarray.reshape : Equivalent method.\n",
      "    \n",
      "    Notes\n",
      "    -----\n",
      "    It is not always possible to change the shape of an array without\n",
      "    copying the data. If you want an error to be raised when the data is copied,\n",
      "    you should assign the new shape to the shape attribute of the array::\n",
      "    \n",
      "     >>> a = np.zeros((10, 2))\n",
      "    \n",
      "     # A transpose makes the array non-contiguous\n",
      "     >>> b = a.T\n",
      "    \n",
      "     # Taking a view makes it possible to modify the shape without modifying\n",
      "     # the initial object.\n",
      "     >>> c = b.view()\n",
      "     >>> c.shape = (20)\n",
      "     Traceback (most recent call last):\n",
      "        ...\n",
      "     AttributeError: Incompatible shape for in-place modification. Use\n",
      "     `.reshape()` to make a copy with the desired shape.\n",
      "    \n",
      "    The `order` keyword gives the index ordering both for *fetching* the values\n",
      "    from `a`, and then *placing* the values into the output array.\n",
      "    For example, let's say you have an array:\n",
      "    \n",
      "    >>> a = np.arange(6).reshape((3, 2))\n",
      "    >>> a\n",
      "    array([[0, 1],\n",
      "           [2, 3],\n",
      "           [4, 5]])\n",
      "    \n",
      "    You can think of reshaping as first raveling the array (using the given\n",
      "    index order), then inserting the elements from the raveled array into the\n",
      "    new array using the same kind of index ordering as was used for the\n",
      "    raveling.\n",
      "    \n",
      "    >>> np.reshape(a, (2, 3)) # C-like index ordering\n",
      "    array([[0, 1, 2],\n",
      "           [3, 4, 5]])\n",
      "    >>> np.reshape(np.ravel(a), (2, 3)) # equivalent to C ravel then C reshape\n",
      "    array([[0, 1, 2],\n",
      "           [3, 4, 5]])\n",
      "    >>> np.reshape(a, (2, 3), order='F') # Fortran-like index ordering\n",
      "    array([[0, 4, 3],\n",
      "           [2, 1, 5]])\n",
      "    >>> np.reshape(np.ravel(a, order='F'), (2, 3), order='F')\n",
      "    array([[0, 4, 3],\n",
      "           [2, 1, 5]])\n",
      "    \n",
      "    Examples\n",
      "    --------\n",
      "    >>> a = np.array([[1,2,3], [4,5,6]])\n",
      "    >>> np.reshape(a, 6)\n",
      "    array([1, 2, 3, 4, 5, 6])\n",
      "    >>> np.reshape(a, 6, order='F')\n",
      "    array([1, 4, 2, 5, 3, 6])\n",
      "    \n",
      "    >>> np.reshape(a, (3,-1))       # the unspecified value is inferred to be 2\n",
      "    array([[1, 2],\n",
      "           [3, 4],\n",
      "           [5, 6]])\n",
      "\n"
     ]
    }
   ],
   "source": [
    "help(np.reshape)"
   ]
  },
  {
   "cell_type": "markdown",
   "metadata": {},
   "source": [
    "## Task 5a: Transposing an Array\n",
    "\n",
    "In the practice notebook perform the following:\n",
    "\n",
    "+ Create a matrix of any size and transpose it."
   ]
  },
  {
   "cell_type": "code",
   "execution_count": 24,
   "metadata": {},
   "outputs": [
    {
     "name": "stdout",
     "output_type": "stream",
     "text": [
      "[[0.47806331 0.89653138 0.56278377]\n",
      " [0.87728236 0.08656514 0.33811277]]\n",
      "[[0.47806331 0.87728236]\n",
      " [0.89653138 0.08656514]\n",
      " [0.56278377 0.33811277]]\n",
      "[[0.47806331 0.87728236]\n",
      " [0.89653138 0.08656514]\n",
      " [0.56278377 0.33811277]]\n"
     ]
    }
   ],
   "source": [
    "array1 = np.random.random((2, 3))\n",
    "print(array1)\n",
    "\n",
    "print(np.transpose(array1))\n",
    "\n",
    "print(array1.T)"
   ]
  },
  {
   "cell_type": "markdown",
   "metadata": {},
   "source": [
    "## Task 5b: Reshaping an Array\n",
    "\n",
    "In the practice notebook peform the following:\n",
    "\n",
    "+ Create a matrix and resize it by adding 2 extra columns\n",
    "+ Create a matrix and resize it by adding 1 extra row\n",
    "+ Create a matrix of 8 x 2 and resize it to 4 x 4"
   ]
  },
  {
   "cell_type": "code",
   "execution_count": 25,
   "metadata": {},
   "outputs": [
    {
     "name": "stdout",
     "output_type": "stream",
     "text": [
      "[[0.47806331 0.89653138 0.56278377 0.87728236 0.08656514]\n",
      " [0.33811277 0.47806331 0.89653138 0.56278377 0.87728236]]\n",
      "[[0.47806331 0.89653138 0.56278377]\n",
      " [0.87728236 0.08656514 0.33811277]\n",
      " [0.47806331 0.89653138 0.56278377]]\n",
      "[[0.31138676 0.90197087]\n",
      " [0.94620996 0.18592952]\n",
      " [0.62379575 0.40361243]\n",
      " [0.53913305 0.28678401]\n",
      " [0.87600234 0.94578012]\n",
      " [0.68734746 0.54078602]\n",
      " [0.33952132 0.13651376]\n",
      " [0.01165553 0.1738648 ]]\n",
      "[[0.31138676 0.90197087 0.94620996 0.18592952]\n",
      " [0.62379575 0.40361243 0.53913305 0.28678401]\n",
      " [0.87600234 0.94578012 0.68734746 0.54078602]\n",
      " [0.33952132 0.13651376 0.01165553 0.1738648 ]]\n"
     ]
    }
   ],
   "source": [
    "print(np.resize(array1,(2, 5)))\n",
    "print(np.resize(array1,(3, 3)))\n",
    "\n",
    "array2 = np.random.random((8, 2))\n",
    "print(array2)\n",
    "print(np.reshape(array2, (4, 4)))"
   ]
  },
  {
   "cell_type": "markdown",
   "metadata": {},
   "source": [
    "## Task 5c: Appending to an Array\n",
    "\n",
    "In the practice notebook perform the following:\n",
    "\n",
    " + Create a three dimensional array and append another row to the array\n",
    " + Append another colum to the array\n",
    " + Print the final results"
   ]
  },
  {
   "cell_type": "code",
   "execution_count": 22,
   "metadata": {},
   "outputs": [
    {
     "name": "stdout",
     "output_type": "stream",
     "text": [
      "[[[0.79949291 0.87682852 0.88489111 0.37996342]\n",
      "  [0.34416636 0.4479331  0.79894178 0.76560704]\n",
      "  [0.35224392 0.84997185 0.69240244 0.07042404]]\n",
      "\n",
      " [[0.07370676 0.33874864 0.02698644 0.9782999 ]\n",
      "  [0.24006998 0.08637949 0.45401675 0.34563729]\n",
      "  [0.97655493 0.60012997 0.69574035 0.43011278]]]\n",
      "\n",
      "\n",
      "[[[0.79949291 0.87682852 0.88489111 0.37996342]\n",
      "  [0.34416636 0.4479331  0.79894178 0.76560704]\n",
      "  [0.35224392 0.84997185 0.69240244 0.07042404]]\n",
      "\n",
      " [[0.07370676 0.33874864 0.02698644 0.9782999 ]\n",
      "  [0.24006998 0.08637949 0.45401675 0.34563729]\n",
      "  [0.97655493 0.60012997 0.69574035 0.43011278]]\n",
      "\n",
      " [[0.         0.         0.         0.        ]\n",
      "  [0.         0.         0.         0.        ]\n",
      "  [0.         0.         0.         0.        ]]]\n",
      "\n",
      "\n",
      "[[[0.79949291 0.87682852 0.88489111 0.37996342]\n",
      "  [0.34416636 0.4479331  0.79894178 0.76560704]\n",
      "  [0.35224392 0.84997185 0.69240244 0.07042404]\n",
      "  [0.         0.         0.         0.        ]]\n",
      "\n",
      " [[0.07370676 0.33874864 0.02698644 0.9782999 ]\n",
      "  [0.24006998 0.08637949 0.45401675 0.34563729]\n",
      "  [0.97655493 0.60012997 0.69574035 0.43011278]\n",
      "  [0.         0.         0.         0.        ]]]\n"
     ]
    }
   ],
   "source": [
    "threeD_array = np.random.random((2, 3, 4))\n",
    "print(threeD_array)\n",
    "print(\"\\n\")\n",
    "new_threeD_array = np.append(threeD_array, [[[0, 0, 0, 0], [0, 0, 0, 0], [0, 0, 0, 0]]], axis=0)\n",
    "print(new_threeD_array)\n",
    "print(\"\\n\")\n",
    "new_threeD_array2 = np.append(threeD_array,[[[0, 0, 0, 0]], [[0, 0, 0, 0]]] , axis = 1)\n",
    "print(new_threeD_array2)"
   ]
  },
  {
   "cell_type": "markdown",
   "metadata": {},
   "source": [
    "## Task 5d: Inserting and Deleting Elements\n",
    "\n",
    "In the practice notebook perform the following:\n",
    "\n",
    "+ Examine the `help()` documentation for how to use the `insert()` and `delete()` functions.\n",
    "+ Create a matrix and practice inserting a row and deleting a column."
   ]
  },
  {
   "cell_type": "code",
   "execution_count": 32,
   "metadata": {},
   "outputs": [
    {
     "name": "stdout",
     "output_type": "stream",
     "text": [
      "[[0.47806331 0.89653138 0.56278377]\n",
      " [0.87728236 0.08656514 0.33811277]]\n",
      "\n",
      "\n",
      "[0.47806331 5.         0.89653138 0.56278377 0.87728236 0.08656514\n",
      " 0.33811277]\n",
      "\n",
      "\n",
      "[[0.47806331 5.         0.89653138 0.56278377]\n",
      " [0.87728236 5.         0.08656514 0.33811277]]\n",
      "\n",
      "\n",
      "[[5.         0.89653138 0.56278377]\n",
      " [5.         0.08656514 0.33811277]]\n"
     ]
    }
   ],
   "source": [
    "print(array1)\n",
    "print(\"\\n\")\n",
    "insert1 = np.insert(array1, 1, 5)\n",
    "print(insert1)\n",
    "print(\"\\n\")\n",
    "insert2 = np.insert(array1, 1, 5, axis =1)\n",
    "print(insert2)\n",
    "print(\"\\n\")\n",
    "delete = np.delete(insert2, 0, axis =1)\n",
    "print(delete)"
   ]
  },
  {
   "cell_type": "markdown",
   "metadata": {},
   "source": [
    "## Task 5e: Joining Arrays\n",
    "\n",
    "In the practice notebook perform the following:\n",
    "\n",
    "+ Execute the code (in the cell below).\n",
    "+ Examine the output from each of the function calls in the cell above. If needed to understand, review the help pages for each tool either using the `help()` command or the [Numpy Function Reference](https://docs.scipy.org/doc/numpy/reference/routines.html). \n",
    "+ Respond to the following question and respond in the second cell below.\n",
    "  + Can you identify what is happening with each of them?"
   ]
  },
  {
   "cell_type": "code",
   "execution_count": 33,
   "metadata": {},
   "outputs": [
    {
     "name": "stdout",
     "output_type": "stream",
     "text": [
      "concatenate:\n",
      "[1 2 3 4 1 1 1 1]\n",
      "\n",
      "vstack:\n",
      "[[1 2 3 4]\n",
      " [1 2 3 4]\n",
      " [5 6 7 8]]\n",
      "\n",
      "hstack:\n",
      "[[1 2 3 4 1 2 3 4]\n",
      " [5 6 7 8 5 6 7 8]]\n",
      "\n",
      "column_stack:\n",
      "[[1 2 3 4 1 2 3 4]\n",
      " [5 6 7 8 5 6 7 8]]\n"
     ]
    }
   ],
   "source": [
    "# Concatentate `my_array` and `x`: similar to np.append()\n",
    "my_array = np.array([1,2,3,4])\n",
    "x = np.array([1,1,1,1])\n",
    "print(\"concatenate:\")\n",
    "print(np.concatenate((my_array, x)))\n",
    "\n",
    "# Stack arrays row-wise\n",
    "my_2d_array = np.array([[1,2,3,4], [5,6,7,8]])\n",
    "print(\"\\nvstack:\")\n",
    "print(np.vstack((my_array, my_2d_array)))\n",
    "\n",
    "# Stack arrays horizontally\n",
    "print(\"\\nhstack:\")\n",
    "print(np.hstack((my_2d_array, my_2d_array)))\n",
    "\n",
    "# Stack arrays column-wise\n",
    "print(\"\\ncolumn_stack:\")\n",
    "print(np.column_stack((my_2d_array, my_2d_array)))"
   ]
  },
  {
   "cell_type": "raw",
   "metadata": {},
   "source": []
  },
  {
   "cell_type": "markdown",
   "metadata": {},
   "source": [
    "## Task 5d: Splitting Arrays\n",
    "\n",
    "In the practice notebook perform the following:\n",
    "\n",
    "+ Execute the code (as shown below).\n",
    "+ Examine the output from each of the function calls in the cell above. If needed to understand, review the help pages for each tool either using the `help()` command or the [Numpy Function Reference](https://docs.scipy.org/doc/numpy/reference/routines.html). \n",
    "+ Respond to the following question and respond in the second cell below.\n",
    "  + Can you identify what is happening with each of them?"
   ]
  },
  {
   "cell_type": "code",
   "execution_count": 34,
   "metadata": {},
   "outputs": [
    {
     "name": "stdout",
     "output_type": "stream",
     "text": [
      "original:\n",
      "[[1 2 3 4]\n",
      " [5 6 7 8]]\n",
      "\n",
      "hsplit:\n",
      "[array([[1, 2],\n",
      "       [5, 6]]), array([[3, 4],\n",
      "       [7, 8]])]\n",
      "\n",
      "vsplit:\n",
      "[array([[1, 2, 3, 4]]), array([[5, 6, 7, 8]])]\n"
     ]
    }
   ],
   "source": [
    "# Create a 2D array.\n",
    "my_2d_array = np.array([[1,2,3,4], [5,6,7,8]])\n",
    "print(\"original:\")\n",
    "print(my_2d_array)\n",
    "\n",
    "# Split `my_stacked_array` horizontally at the 2nd index\n",
    "print(\"\\nhsplit:\")\n",
    "print(np.hsplit(my_2d_array, 2))\n",
    "\n",
    "# Split `my_stacked_array` vertically at the 2nd index\n",
    "print(\"\\nvsplit:\")\n",
    "print(np.vsplit(my_2d_array, 2))"
   ]
  },
  {
   "cell_type": "raw",
   "metadata": {},
   "source": []
  }
 ],
 "metadata": {
  "kernelspec": {
   "display_name": "Python 3",
   "language": "python",
   "name": "python3"
  },
  "language_info": {
   "codemirror_mode": {
    "name": "ipython",
    "version": 3
   },
   "file_extension": ".py",
   "mimetype": "text/x-python",
   "name": "python",
   "nbconvert_exporter": "python",
   "pygments_lexer": "ipython3",
   "version": "3.8.5"
  }
 },
 "nbformat": 4,
 "nbformat_minor": 4
}
