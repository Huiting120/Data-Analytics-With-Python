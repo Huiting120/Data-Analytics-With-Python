{
 "cells": [
  {
   "cell_type": "markdown",
   "metadata": {},
   "source": [
    "# Lesson 1 Practice: NumPy Part 1\n",
    "Use this notebook to follow along with the lesson in the corresponding lesson notebook: [L01-Numpy_Part1-Lesson.ipynb](./L01-Numpy_Part1-Lesson.ipynb).  \n",
    "\n"
   ]
  },
  {
   "cell_type": "markdown",
   "metadata": {},
   "source": [
    "## Instructions\n",
    "Follow along with the teaching material in the lesson. Throughout the tutorial sections labeled as \"Tasks\" are interspersed and indicated with the icon: ![Task](http://icons.iconarchive.com/icons/sbstnblnd/plateau/16/Apps-gnome-info-icon.png). You should follow the instructions provided in these sections by performing them in the practice notebook.  When the tutorial is completed you can turn in the final practice notebook. For each task, use the cell below it to write and test your code.  You may add additional cells for any task as needed or desired.  "
   ]
  },
  {
   "cell_type": "markdown",
   "metadata": {},
   "source": [
    "## Task 1a: Setup\n",
    "\n",
    "In the practice notebook, import the following packages:\n",
    "+ `numpy` as `np`"
   ]
  },
  {
   "cell_type": "code",
   "execution_count": 1,
   "metadata": {},
   "outputs": [],
   "source": [
    "import numpy as np"
   ]
  },
  {
   "cell_type": "markdown",
   "metadata": {},
   "source": [
    "## Task 2a: Creating Arrays\n",
    "\n",
    "In the practice notebook, perform the following.  \n",
    "- Create a 1-dimensional numpy array and print it.\n",
    "- Create a 2-dimensional numpy array and print it.\n",
    "- Create a 3-dimensional numpy array and print it."
   ]
  },
  {
   "cell_type": "code",
   "execution_count": 5,
   "metadata": {},
   "outputs": [
    {
     "name": "stdout",
     "output_type": "stream",
     "text": [
      "[1 2 3 4]\n",
      "[[1 2 3 4]\n",
      " [5 6 7 8]]\n",
      "[[[ 1  2  3  4]\n",
      "  [ 5  6  7  8]]\n",
      "\n",
      " [[ 1  2  3  4]\n",
      "  [ 9 10 11 12]]]\n"
     ]
    }
   ],
   "source": [
    "one_D_array = np.array([1, 2, 3, 4])\n",
    "print(one_D_array)\n",
    "two_D_array = np.array([[1, 2, 3, 4], [5, 6, 7, 8]])\n",
    "print(two_D_array)\n",
    "three_D_array = np.array([[[1, 2, 3, 4], [5, 6, 7, 8]], [[1, 2, 3, 4], [9, 10, 11, 12]]])\n",
    "print(three_D_array)"
   ]
  },
  {
   "cell_type": "markdown",
   "metadata": {},
   "source": [
    "## Task 3a: Accessing Array Attributes\n",
    "\n",
    "In the practice notebook, perform the following.\n",
    "\n",
    "- Create a NumPy array.\n",
    "- Write code that prints these attributes (one per line): `ndim`, `shape`, `size`, `dtype`, `itemsize`, `data`, `nbytes`.\n",
    "- Add a comment line, before each line describing what value the attribute returns. \n"
   ]
  },
  {
   "cell_type": "code",
   "execution_count": 8,
   "metadata": {},
   "outputs": [
    {
     "name": "stdout",
     "output_type": "stream",
     "text": [
      "2\n",
      "(2, 4)\n",
      "8\n",
      "int64\n",
      "8\n",
      "<memory at 0x7fa436309790>\n",
      "64\n"
     ]
    }
   ],
   "source": [
    "two_D_array = np.array([[1, 2, 3, 4], [5, 6, 7, 8]])\n",
    "print(two_D_array.ndim)\n",
    "print(two_D_array.shape)\n",
    "print(two_D_array.size)\n",
    "print(two_D_array.dtype)\n",
    "print(two_D_array.itemsize)\n",
    "print(two_D_array.data)\n",
    "print(two_D_array.nbytes)"
   ]
  },
  {
   "cell_type": "markdown",
   "metadata": {},
   "source": [
    "## Task 4a: Initializing Arrays\n",
    "\n",
    "In the practice notebook, perform the following.\n",
    "\n",
    "+ Create an initialized array by using these functions:  `ones`, `zeros`, `empty`, `full`, `arange`, `linspace` and `random.random`. Be sure to follow each array creation with a call to `print()` to display your newly created arrays. \n",
    "+ Add a comment above each function call describing what is being done.  "
   ]
  },
  {
   "cell_type": "code",
   "execution_count": 25,
   "metadata": {},
   "outputs": [
    {
     "name": "stdout",
     "output_type": "stream",
     "text": [
      "[[1. 1. 1. 1.]\n",
      " [1. 1. 1. 1.]]\n",
      "[[0. 0. 0. 0.]\n",
      " [0. 0. 0. 0.]]\n",
      "[[1.5e-323 1.5e-323 1.5e-323]\n",
      " [1.5e-323 1.5e-323 1.5e-323]\n",
      " [1.5e-323 1.5e-323 1.5e-323]]\n",
      "[[3 3 3]\n",
      " [3 3 3]\n",
      " [3 3 3]]\n",
      "[0 2 4 6 8]\n",
      "[ 1.   2.8  4.6  6.4  8.2 10. ]\n",
      "0.4674598795243913\n",
      "[[0.69715692 0.11020754]\n",
      " [0.08717272 0.94194893]]\n"
     ]
    }
   ],
   "source": [
    "ones = np.ones((2, 4))\n",
    "print(ones)\n",
    "zeros =np.zeros((2, 4))\n",
    "print(zeros)\n",
    "empty = np.empty((3, 3))\n",
    "print(empty)\n",
    "full = np.full((3, 3), 3)\n",
    "print(full)\n",
    "arange = np.arange(0, 10, 2)\n",
    "print(arange)\n",
    "linspace = np.linspace(1.0, 10.0, num = 6)\n",
    "print(linspace)\n",
    "random = np.random.random()\n",
    "print(random)\n",
    "random2 = np.random.random((2, 2))\n",
    "print(random2)"
   ]
  },
  {
   "cell_type": "markdown",
   "metadata": {},
   "source": [
    "## Task 5a:  Broadcasting Arrays\n",
    "\n",
    "In the practice notebook, perform the following.\n",
    "\n",
    "+ Create two arrays of differing sizes but compatible with broadcasting.\n",
    "+ Perform addition, multiplication and subtraction.\n",
    "+ Create two additional arrays of differing size that do not meet the rules for broadcasting and try a mathematical operation.  "
   ]
  },
  {
   "cell_type": "code",
   "execution_count": 29,
   "metadata": {},
   "outputs": [
    {
     "name": "stdout",
     "output_type": "stream",
     "text": [
      "[[[3.08277018 3.00890378 3.25088246 3.16093134]\n",
      "  [3.08277018 3.00890378 3.25088246 3.16093134]\n",
      "  [3.08277018 3.00890378 3.25088246 3.16093134]]\n",
      "\n",
      " [[3.36043033 3.69721624 3.6304567  3.90931239]\n",
      "  [3.36043033 3.69721624 3.6304567  3.90931239]\n",
      "  [3.36043033 3.69721624 3.6304567  3.90931239]]]\n",
      "[[[2.91722982 2.99109622 2.74911754 2.83906866]\n",
      "  [2.91722982 2.99109622 2.74911754 2.83906866]\n",
      "  [2.91722982 2.99109622 2.74911754 2.83906866]]\n",
      "\n",
      " [[2.63956967 2.30278376 2.3695433  2.09068761]\n",
      "  [2.63956967 2.30278376 2.3695433  2.09068761]\n",
      "  [2.63956967 2.30278376 2.3695433  2.09068761]]]\n",
      "[[[0.24831053 0.02671135 0.75264738 0.48279403]\n",
      "  [0.24831053 0.02671135 0.75264738 0.48279403]\n",
      "  [0.24831053 0.02671135 0.75264738 0.48279403]]\n",
      "\n",
      " [[1.081291   2.09164873 1.89137009 2.72793717]\n",
      "  [1.081291   2.09164873 1.89137009 2.72793717]\n",
      "  [1.081291   2.09164873 1.89137009 2.72793717]]]\n"
     ]
    },
    {
     "ename": "ValueError",
     "evalue": "operands could not be broadcast together with shapes (3,4) (2,1,3) ",
     "output_type": "error",
     "traceback": [
      "\u001b[0;31m---------------------------------------------------------------------------\u001b[0m",
      "\u001b[0;31mValueError\u001b[0m                                Traceback (most recent call last)",
      "\u001b[0;32m<ipython-input-29-dd8549cf432a>\u001b[0m in \u001b[0;36m<module>\u001b[0;34m\u001b[0m\n\u001b[1;32m      6\u001b[0m \u001b[0;34m\u001b[0m\u001b[0m\n\u001b[1;32m      7\u001b[0m \u001b[0marray3\u001b[0m \u001b[0;34m=\u001b[0m \u001b[0mnp\u001b[0m\u001b[0;34m.\u001b[0m\u001b[0mrandom\u001b[0m\u001b[0;34m.\u001b[0m\u001b[0mrandom\u001b[0m\u001b[0;34m(\u001b[0m\u001b[0;34m(\u001b[0m\u001b[0;36m2\u001b[0m\u001b[0;34m,\u001b[0m \u001b[0;36m1\u001b[0m\u001b[0;34m,\u001b[0m \u001b[0;36m3\u001b[0m\u001b[0;34m)\u001b[0m\u001b[0;34m)\u001b[0m\u001b[0;34m\u001b[0m\u001b[0;34m\u001b[0m\u001b[0m\n\u001b[0;32m----> 8\u001b[0;31m \u001b[0mprint\u001b[0m\u001b[0;34m(\u001b[0m\u001b[0marray1\u001b[0m \u001b[0;34m+\u001b[0m \u001b[0marray3\u001b[0m\u001b[0;34m)\u001b[0m\u001b[0;34m\u001b[0m\u001b[0;34m\u001b[0m\u001b[0m\n\u001b[0m",
      "\u001b[0;31mValueError\u001b[0m: operands could not be broadcast together with shapes (3,4) (2,1,3) "
     ]
    }
   ],
   "source": [
    "array1 = np.full((3, 4), 3)\n",
    "array2 = np.random.random((2, 1, 4))\n",
    "print(array1 + array2)\n",
    "print(array1 - array2)\n",
    "print(array1 * array2)\n",
    "\n",
    "array3 = np.random.random((2, 1, 3))\n",
    "print(array1 + array3)"
   ]
  },
  {
   "cell_type": "markdown",
   "metadata": {},
   "source": [
    "## Task 6a: Math/Stats Aggregate Functions\n",
    "\n",
    "In the practice notebook, perform the following.\n",
    "\n",
    "+ Create three to five arrays\n",
    "+ Experiment with each of the aggregation functions: `sum`, `minimum`, `maximum`, `cumsum`, `mean`, `np.corrcoef`, `np.std`, `np.var`. \n",
    "+ For each function call, add a comment line above it that describes what it does.  \n",
    "```\n"
   ]
  },
  {
   "cell_type": "code",
   "execution_count": 45,
   "metadata": {},
   "outputs": [
    {
     "name": "stdout",
     "output_type": "stream",
     "text": [
      "36\n",
      "[9 9 9 9]\n",
      "[[[0.83926929 0.83990487 0.93795397 0.04170402]\n",
      "  [0.83926929 0.83990487 0.93795397 0.04170402]\n",
      "  [0.83926929 0.83990487 0.93795397 0.04170402]]\n",
      "\n",
      " [[0.08270723 0.00912234 0.47176143 0.19756633]\n",
      "  [0.08270723 0.00912234 0.47176143 0.19756633]\n",
      "  [0.08270723 0.00912234 0.47176143 0.19756633]]]\n",
      "[[[3. 3. 3. 3.]\n",
      "  [3. 3. 3. 3.]\n",
      "  [3. 3. 3. 3.]]\n",
      "\n",
      " [[3. 3. 3. 3.]\n",
      "  [3. 3. 3. 3.]\n",
      "  [3. 3. 3. 3.]]]\n",
      "[ 3  6  9 12 15 18 21 24 27 30 33 36]\n",
      "0.4274986854724173\n",
      "[[0.83926929 0.83990487 0.93795397 0.04170402]\n",
      " [0.08270723 0.00912234 0.47176143 0.19756633]]\n",
      "[[ 1.        -0.3721042]\n",
      " [-0.3721042  1.       ]]\n",
      "[0.3445216  0.33078364 0.19889436]\n",
      "0.3034956568269133\n",
      "[0.11869513 0.10941782 0.03955897]\n"
     ]
    }
   ],
   "source": [
    "array1 = np.full((3, 4), 3)\n",
    "array2 = np.random.random((2, 1, 4))\n",
    "array3 = np.random.random((2, 3))\n",
    "\n",
    "print(np.sum(array1))\n",
    "print(np.sum(array1, axis = 0))\n",
    "print(np.minimum(array1, array2))\n",
    "print(np.maximum(array1, array2))\n",
    "print(np.cumsum(array1))\n",
    "print(np.mean(array2))\n",
    "print(np.mean(array2, axis = 1))\n",
    "print(np.corrcoef([1 ,5, 3, 2], [4, 3, 7 ,9]))\n",
    "print(np.std(array3, axis =0))\n",
    "print(np.std(array3))\n",
    "print(np.var(array3, axis =0))"
   ]
  },
  {
   "cell_type": "markdown",
   "metadata": {},
   "source": [
    "## Task 6b: Logical Aggregate Functions\n",
    "\n",
    "In the practice notebook, perform the following.\n",
    "\n",
    "+ Create two arrays containing boolean values.\n",
    "+ Experiment with each of the aggregation functions: `logical_and`, `logical_or`, `logical_not`. \n",
    "+ For each function call, add a comment line above it that describes what it does.  \n",
    "```"
   ]
  },
  {
   "cell_type": "code",
   "execution_count": 49,
   "metadata": {},
   "outputs": [
    {
     "name": "stdout",
     "output_type": "stream",
     "text": [
      "[False  True False False]\n",
      "[ True  True  True  True]\n",
      "[False False  True False]\n"
     ]
    }
   ],
   "source": [
    "arrayA = [True, True, False, True]\n",
    "arrayB = [False, True, True, False]\n",
    "print(np.logical_and(arrayA, arrayB))\n",
    "print(np.logical_or(arrayA, arrayB))\n",
    "print(np.logical_not(arrayA))"
   ]
  },
  {
   "cell_type": "code",
   "execution_count": null,
   "metadata": {},
   "outputs": [],
   "source": []
  }
 ],
 "metadata": {
  "kernelspec": {
   "display_name": "Python 3",
   "language": "python",
   "name": "python3"
  },
  "language_info": {
   "codemirror_mode": {
    "name": "ipython",
    "version": 3
   },
   "file_extension": ".py",
   "mimetype": "text/x-python",
   "name": "python",
   "nbconvert_exporter": "python",
   "pygments_lexer": "ipython3",
   "version": "3.8.5"
  }
 },
 "nbformat": 4,
 "nbformat_minor": 4
}
