{
 "cells": [
  {
   "cell_type": "markdown",
   "metadata": {},
   "source": [
    "# Lesson 1 Class Exercises: NumPy Part 1"
   ]
  },
  {
   "cell_type": "code",
   "execution_count": 17,
   "metadata": {},
   "outputs": [],
   "source": [
    "import numpy as np"
   ]
  },
  {
   "cell_type": "markdown",
   "metadata": {},
   "source": [
    "## Exercise #1\n",
    "\n",
    "Write Python code to generate five random numbers from the normal distribution. \n",
    "\n",
    "Look at the online documentation for [NumPy random number generators](https://docs.scipy.org/doc/numpy-1.15.0/reference/routines.random.html)"
   ]
  },
  {
   "cell_type": "code",
   "execution_count": 18,
   "metadata": {},
   "outputs": [
    {
     "name": "stdout",
     "output_type": "stream",
     "text": [
      "[4.38134948 4.71930645 4.6605535  5.03600451 5.96967806]\n"
     ]
    }
   ],
   "source": [
    "arrayNormal = np.random.normal(5, 1, 5)\n",
    "print(arrayNormal)"
   ]
  },
  {
   "cell_type": "markdown",
   "metadata": {},
   "source": [
    "## Exercise #2\n",
    "Write Python code to generate six random integers between 10 and 30\n",
    "\n",
    "Look at the online documentation for [NumPy random number generators](https://docs.scipy.org/doc/numpy-1.15.0/reference/routines.random.html)"
   ]
  },
  {
   "cell_type": "code",
   "execution_count": 19,
   "metadata": {},
   "outputs": [
    {
     "name": "stdout",
     "output_type": "stream",
     "text": [
      "[20 28 21 22 11 12]\n",
      "[24 15 26 12 22 23]\n"
     ]
    },
    {
     "name": "stderr",
     "output_type": "stream",
     "text": [
      "<ipython-input-19-3791e3c3303d>:1: DeprecationWarning: This function is deprecated. Please call randint(10, 30 + 1) instead\n",
      "  arrayInt = np.random.random_integers(10, 30, 6)\n"
     ]
    }
   ],
   "source": [
    "arrayInt = np.random.random_integers(10, 30, 6)\n",
    "print(arrayInt)\n",
    "# random_intergers is retired, the new one is randint\n",
    "arrayInt2 = np.random.randint(10, 30, 6)\n",
    "print(arrayInt2)"
   ]
  },
  {
   "cell_type": "markdown",
   "metadata": {},
   "source": [
    "## Exercise #3\n",
    "Write Python code to \n",
    "+ create a 5x5 array with random values\n",
    "+ print the array,  \n",
    "+ find and print the minimum and maximum values.\n"
   ]
  },
  {
   "cell_type": "code",
   "execution_count": 20,
   "metadata": {},
   "outputs": [
    {
     "name": "stdout",
     "output_type": "stream",
     "text": [
      "[[0.33909244 0.15746322 0.57245973 0.71097017 0.29952328]\n",
      " [0.01728965 0.710625   0.47740664 0.69777052 0.44001652]\n",
      " [0.80837766 0.63191506 0.73456463 0.38014719 0.94753157]\n",
      " [0.51362251 0.22586816 0.71289232 0.78903888 0.51782413]\n",
      " [0.86712495 0.13767665 0.69355679 0.65185133 0.55658765]]\n",
      "0.017289652960312263\n",
      "0.9475315749888501\n"
     ]
    }
   ],
   "source": [
    "array3 = np.random.random((5, 5))\n",
    "print(array3)\n",
    "\n",
    "print(np.amin(array3))\n",
    "print(np.amax(array3))\n"
   ]
  },
  {
   "cell_type": "markdown",
   "metadata": {},
   "source": [
    "## Exercise #4\n",
    "Write code using NumPy that would create a grid that could be used for the game of life.  Follow these criteria\n",
    "+ the grid must have 30 rows and 80 columns\n",
    "+ it must be initalized to zeros.\n",
    "+ print the grid dimensions to prove its size.\n",
    "+ print the grid to show it is initalized to zeros."
   ]
  },
  {
   "cell_type": "code",
   "execution_count": 21,
   "metadata": {},
   "outputs": [],
   "source": [
    "array4 = np.zeros((30, 80))"
   ]
  },
  {
   "cell_type": "markdown",
   "metadata": {},
   "source": [
    "## Exercise #5\n",
    "Read the documentation about [genfromtxt()](https://docs.scipy.org/doc/numpy/reference/generated/numpy.genfromtxt.html) function of NumPy.  What does it do?  Do you understand what the arguments do?\n",
    "\n",
    "A file has been provided to you named data2.txt.  Be sure to place it in the same folder with this notebook.  It contains the following text:\n",
    "\n",
    "```\n",
    "Value1,Value2,Value3 \n",
    "0.4839,0.4536,0.3561 \n",
    "0.1292,0.6875,NA \n",
    "0.1781,0.3049,0.8928 \n",
    "NA,0.5801,0.2038 \n",
    "0.5993,0.4357,0.7410\n",
    "```\n",
    "Notice it has missing values.  Write some code that \n",
    "+ uses the `genfromtxt` function to read in this file into a numpy array.\n",
    "+ prints the resulting array."
   ]
  },
  {
   "cell_type": "code",
   "execution_count": 25,
   "metadata": {},
   "outputs": [
    {
     "data": {
      "text/plain": [
       "array([[0.4839, 0.4536, 0.3561],\n",
       "       [0.1292, 0.6875,    nan],\n",
       "       [0.1781, 0.3049, 0.8928],\n",
       "       [   nan, 0.5801, 0.2038],\n",
       "       [0.5993, 0.4357, 0.741 ]])"
      ]
     },
     "execution_count": 25,
     "metadata": {},
     "output_type": "execute_result"
    }
   ],
   "source": [
    "np.genfromtxt('./data2.txt', dtype=float, delimiter=\",\", skip_header=1, missing_values=\"NA\")"
   ]
  },
  {
   "cell_type": "markdown",
   "metadata": {},
   "source": [
    "## Exercise #6\n",
    "Write some code that\n",
    "+ Creates an array of 100 rows and 10 columns filled with random values between 0 and 1\n",
    "+ Print the first 10 rows.\n",
    "+ Caculate the following statistics about each row and column\n",
    "  + mean, variance, standard deviation and quartiles of each row.\n",
    "  + print these values."
   ]
  },
  {
   "cell_type": "code",
   "execution_count": null,
   "metadata": {},
   "outputs": [],
   "source": []
  },
  {
   "cell_type": "markdown",
   "metadata": {},
   "source": [
    "## Exercise #7\n",
    "Write code that \n",
    "+ Create an array of 100 rows and 10 columns of integer values with the minimum number 0 and the maximum 10,000\n",
    "+ Print the first 10 rows of the matrix.\n",
    "+ Calculate values for a histogram with 10 bins. \n",
    "    + save in one variable the values of each bin\n",
    "    + save in another variable the value at the left edge of the bin."
   ]
  },
  {
   "cell_type": "code",
   "execution_count": null,
   "metadata": {},
   "outputs": [],
   "source": []
  }
 ],
 "metadata": {
  "kernelspec": {
   "display_name": "Python 3",
   "language": "python",
   "name": "python3"
  },
  "language_info": {
   "codemirror_mode": {
    "name": "ipython",
    "version": 3
   },
   "file_extension": ".py",
   "mimetype": "text/x-python",
   "name": "python",
   "nbconvert_exporter": "python",
   "pygments_lexer": "ipython3",
   "version": "3.8.5"
  }
 },
 "nbformat": 4,
 "nbformat_minor": 4
}
